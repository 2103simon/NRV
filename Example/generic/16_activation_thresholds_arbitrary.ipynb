{
 "cells": [
  {
   "cell_type": "markdown",
   "metadata": {},
   "source": [
    "# Example 16: Activation thresholds with arbitrary settings\n",
    "\n",
    "This script shows how to use the ``axon_AP_threshold()`` function to evaluate axon thresholds with various stimulation waveforms."
   ]
  },
  {
   "cell_type": "code",
   "execution_count": null,
   "metadata": {},
   "outputs": [],
   "source": [
    "import nrv\n",
    "import matplotlib.pyplot as plt\n",
    "\n",
    "# axon def\n",
    "y = 0                                               # axon y position, in [um]\n",
    "z = 0                                               # axon z position, in [um]\n",
    "d = 10                                              # axon diameter, in [um]\n",
    "L = 50_000                                  # axon length, along x axis, in [um]\n",
    "axon1 = nrv.myelinated(y,z,d,L,T=37,rec='nodes',dt=0.001)\n",
    "\n",
    "#electrode\n",
    "n_node = len(axon1.x_nodes)\n",
    "x_elec = axon1.x_nodes[n_node//2]\n",
    "y_elec = 1000\n",
    "z_elec = 0\n",
    "PSA = nrv.point_source_electrode(x_elec,y_elec,z_elec)\n",
    "stim1 = nrv.stimulus() #dummy stim\n",
    "\n",
    "### define extra cellular stimulation\n",
    "extra_stim = nrv.stimulation('endoneurium_bhadra')\n",
    "extra_stim.add_electrode(PSA, stim1)\n",
    "axon1.attach_extracellular_stimulation(extra_stim)\n",
    "\n",
    "#Update function for cathodic (monopolar) pulse\n",
    "def cath_pulse_update(axon,amp, pw, start_p = 1, elec_id = 0):\n",
    "    stim_1 = nrv.stimulus()\n",
    "    stim_1.pulse(start=start_p, duration=pw, value = -amp)\n",
    "    axon.change_stimulus_from_electrode(elec_id, stim_1)\n",
    "\n",
    "#Update function for biphasic pulse\n",
    "def biphasic_pulse_update(axon,amp, pw, start_p = 1, elec_id = 0,t_inter=50e-3):\n",
    "    stim_1 = nrv.stimulus()\n",
    "    stim_1.biphasic_pulse(start = start_p, s_anod=amp,t_stim=pw,s_cathod=amp,t_inter=t_inter)\n",
    "    axon.change_stimulus_from_electrode(elec_id, stim_1)\n",
    "\n",
    "#Update function for cathodic sine pulse\n",
    "def cath_sine_pulse_update(axon,amp, pw, start_p = 1, elec_id = 0):\n",
    "    stim_1 = nrv.stimulus()\n",
    "    freq = 1/(2*pw)\n",
    "    stim_1.sinus(start_p, pw, amp, freq, offset=0, phase=180, dt=0)\n",
    "    axon.change_stimulus_from_electrode(elec_id, stim_1)\n",
    "\n",
    "#parameters for the waveforms\n",
    "arg_stim = {'pw':50e-3, 'elec_id':0, 'start_p':1}\n",
    "max_amp = 300 #maximum search boundary\n",
    "\n",
    "threshold_pulse = nrv.axon_AP_threshold(axon = axon1,amp_max = max_amp,\n",
    "                                        update_func = cath_pulse_update, args_update=arg_stim)\n",
    "threshold_biphasic = nrv.axon_AP_threshold(axon = axon1,amp_max = max_amp,\n",
    "                                        update_func = biphasic_pulse_update, args_update=arg_stim)\n",
    "threshold_sine = nrv.axon_AP_threshold(axon = axon1,amp_max = max_amp,\n",
    "                                        update_func = cath_sine_pulse_update, args_update=arg_stim)"
   ]
  }
 ],
 "metadata": {
  "kernelspec": {
   "display_name": "nrv-demo",
   "language": "python",
   "name": "python3"
  },
  "language_info": {
   "codemirror_mode": {
    "name": "ipython",
    "version": 3
   },
   "file_extension": ".py",
   "mimetype": "text/x-python",
   "name": "python",
   "nbconvert_exporter": "python",
   "pygments_lexer": "ipython3",
   "version": "3.12.3"
  }
 },
 "nbformat": 4,
 "nbformat_minor": 2
}
