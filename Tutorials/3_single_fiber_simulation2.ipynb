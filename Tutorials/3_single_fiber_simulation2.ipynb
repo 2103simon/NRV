{
 "cells": [
  {
   "cell_type": "markdown",
   "metadata": {},
   "source": [
    "# Stimulating single fibers with NRV\n",
    "-----------------------------\n",
    "\n",
    "In this tutorial, we will create a monofasciclur nerve, populate it with one fiber and stimulate it with intra- and extra-fascicular electrodes. We will explore conventional stimulation (monophasic/biphasic stimulation) and high-frequency stimulation for conduction block.\n",
    "\n",
    "As before, we start by importing the NRV package as well as numpy and matplotlib:"
   ]
  },
  {
   "cell_type": "code",
   "execution_count": 1,
   "metadata": {},
   "outputs": [],
   "source": [
    "import matplotlib.pyplot as plt\n",
    "%matplotlib inline\n",
    "import numpy as np\n",
    "import sys\n",
    "sys.path.append(\"../\")\n",
    "import nrv"
   ]
  },
  {
   "cell_type": "markdown",
   "metadata": {},
   "source": [
    "## Axon definition\n",
    "Let's start by creating a 10µm myelinated axon, similarly to previous tutorials:"
   ]
  },
  {
   "cell_type": "code",
   "execution_count": null,
   "metadata": {},
   "outputs": [],
   "source": [
    "model= 'MRG'\n",
    "# axon location\n",
    "z_axon = 0\t  # axon z position, in [um]\n",
    "y_axon = 0  # axon z position, in [um]\n",
    "\n",
    "pw = 50\n",
    "pw = pw*1e-3\n",
    "\n",
    "n_node = 20\n",
    "diam = 10\n",
    "L=nrv.get_length_from_nodes(diam,n_node)\n",
    "axon_m = nrv.myelinated(y_axon,z_axon,diam,L,rec='nodes',model=model)\n",
    "\n",
    "### Simulation box size\n",
    "Outer_D = 10     # in in [mm]\n",
    "\n",
    "#### Nerve and fascicle geometry\n",
    "Nerve_D = 1500      # in [um]\n",
    "Fascicle_D = 1000    # in [um]\n",
    "\n",
    "print(f\"Simulation with fenicsx - LIFE - PW = {int(pw*1e3)}us - D_axon {diam}um\")\n",
    "extra_stim = nrv.FEM_stimulation(endo_mat='endoneurium_ranck')\n",
    "extra_stim.reshape_nerve(Nerve_D, L)\n",
    "extra_stim.reshape_outerBox(Outer_D)\n",
    "extra_stim.reshape_fascicle(Fascicle_D)#,Perineurium_thickness=perineurium_thickeness)\n",
    " \n",
    "#Center the LIFE on the middle node of ranvier \n",
    "#LIFE \n",
    "LIFE_length = 1000             #electrode active site length\n",
    "y_elect = 0\n",
    "z_elect = 100\n",
    "D_1 = 25                    #electrode diam\n",
    "#n_node = len(axon_m.x_nodes)\n",
    "x_elec = axon_m.x_nodes[n_node//2]\t# electrode y position, in [um]\n",
    "y_c = 0 \n",
    "x_1_offset = x_elec - (LIFE_length/2)\n",
    "LIFE = nrv.LIFE_electrode('LIFE_1', D_1, LIFE_length, x_1_offset, y_elect, z_elect)\n",
    "\n",
    "#dummy useless stimulus\n",
    "start = 0.5\n",
    "I_cathod = 50\n",
    "T_cathod = pw\n",
    "stim1 = nrv.stimulus()\n",
    "stim1.pulse(start, -I_cathod, T_cathod)#, I_anod, T_inter)\n",
    "\n",
    "# extracellular stimulation setup\n",
    "extra_stim.add_electrode(LIFE, stim1)\n",
    "axon_m.attach_extracellular_stimulation(extra_stim)\n",
    "res = axon_m(t_sim =3)"
   ]
  },
  {
   "cell_type": "markdown",
   "metadata": {},
   "source": [
    "## Extracellular context Creation\n",
    "\n",
    "We now need to create the extracellular context of our model, which consists in the nerve and electrode geometry, as well as defining the material properties. We will create two extracellular context, one with LIFE and one with cuff-like electrode. Extracellular context instances are created with the ```FEM_stimulation```-class. We can also specify the endoneurium conductivity. Here we will use ```endoneurium_ranck```. "
   ]
  },
  {
   "cell_type": "code",
   "execution_count": 3,
   "metadata": {},
   "outputs": [],
   "source": [
    "### Simulation box size\n",
    "Outer_D = 10     # in in [mm]\n",
    "\n",
    "#### Nerve and fascicle geometry\n",
    "Nerve_D = 1500      # in [um]\n",
    "Fascicle_D = 1000    # in [um]\n",
    "\n",
    "extra_stim = nrv.FEM_stimulation(endo_mat='endoneurium_ranck')\n",
    "extra_stim.reshape_nerve(Nerve_D, L)\n",
    "extra_stim.reshape_outerBox(Outer_D)\n",
    "extra_stim.reshape_fascicle(Fascicle_D)#,Perineurium_thickness=perineurium_thickeness)"
   ]
  },
  {
   "cell_type": "markdown",
   "metadata": {},
   "source": [
    "We can set the diameter of our nerves to 1500µm and length slighly longer than the axon length (to facilitate FEM computation):"
   ]
  },
  {
   "cell_type": "markdown",
   "metadata": {},
   "source": [
    "Finally, we add the electrodes to our FEM models. Let's start by creating a 1000µm in length, 25µm in diameter LIFE electrode. The central point of the LIFE active-site is aligned with the 10th node-of-ranvier of our fiber, and located 100µm away (on the z-axis) from the fiber:"
   ]
  },
  {
   "cell_type": "code",
   "execution_count": 4,
   "metadata": {},
   "outputs": [],
   "source": [
    "#Center the LIFE on the middle node of ranvier \n",
    "#LIFE \n",
    "LIFE_length = 1000             #electrode active site length\n",
    "y_elect = 0\n",
    "z_elect = 100\n",
    "D_1 = 25                    #electrode diam\n",
    "#n_node = len(axon_m.x_nodes)\n",
    "x_elec = axon_m.x_nodes[n_node//2]\t# electrode y position, in [um]\n",
    "y_c = 0 \n",
    "x_1_offset = x_elec - (LIFE_length/2)\n",
    "LIFE = nrv.LIFE_electrode('LIFE_1', D_1, LIFE_length, x_1_offset, y_elect, z_elect)"
   ]
  },
  {
   "cell_type": "markdown",
   "metadata": {},
   "source": [
    "Similarly, we create a monopolar cuff-like electrode:"
   ]
  },
  {
   "cell_type": "code",
   "execution_count": 5,
   "metadata": {},
   "outputs": [],
   "source": [
    "#contact_width=500               #width (length) of the cuff active-site, in um\n",
    "#contact_thickness=100           #tickness of the cuff active-site, in um\n",
    "#insulator_width=1000            #width (length) of the cuff insulator, in um\n",
    "#insulator_thickness=500         #tickness of the cuff insulator, in um\n",
    "\n",
    "#x_cuff = axon_m.x_nodes[n_NoR//2] # cuff z position, in [um]\n",
    "#cuff = nrv.CUFF_electrode('CUFF_1', contact_length=contact_width,\n",
    "#        contact_thickness=contact_thickness, insulator_length=insulator_width,\n",
    "#        insulator_thickness=insulator_thickness, x_center=x_cuff)"
   ]
  },
  {
   "cell_type": "markdown",
   "metadata": {},
   "source": [
    "Before linking our electrodes to their FEM models, we need to setup a stimulus. For that, we create a very basic monophasic cathodic 100µs/10µA pulse:"
   ]
  },
  {
   "cell_type": "code",
   "execution_count": 6,
   "metadata": {},
   "outputs": [],
   "source": [
    "#dummy useless stimulus\n",
    "start = 0.5\n",
    "I_cathod = 50\n",
    "T_cathod = 50*1e-3\n",
    "stim1 = nrv.stimulus()\n",
    "stim1.pulse(start, -I_cathod, T_cathod)#, I_anod, T_inter)"
   ]
  },
  {
   "cell_type": "markdown",
   "metadata": {},
   "source": [
    "We can plot the stimulus to check it, using built-in plot function of the ```stimulus```class:"
   ]
  },
  {
   "cell_type": "code",
   "execution_count": 7,
   "metadata": {},
   "outputs": [
    {
     "data": {
      "text/plain": [
       "Text(0, 0.5, 'amplitude (µA)')"
      ]
     },
     "execution_count": 7,
     "metadata": {},
     "output_type": "execute_result"
    },
    {
     "data": {
      "image/png": "[encoded data removed]",
      "text/plain": [
       "<Figure size 600x600 with 1 Axes>"
      ]
     },
     "metadata": {},
     "output_type": "display_data"
    }
   ],
   "source": [
    "fig, ax = plt.subplots(1, 1, figsize=(6,6))\n",
    "stim1.plot(ax)\n",
    "ax.set_xlabel(\"time (ms)\")\n",
    "ax.set_ylabel(\"amplitude (µA)\")"
   ]
  },
  {
   "cell_type": "markdown",
   "metadata": {},
   "source": [
    "Electrodes can be simply linked the FEM model by using the ```add_electrode```-method of the ```FEM_stimulation```-object, which combine an ```electrode```-object to a ```stimulus```-object and attach it to the FEM model:"
   ]
  },
  {
   "cell_type": "code",
   "execution_count": 8,
   "metadata": {},
   "outputs": [
    {
     "ename": "",
     "evalue": "",
     "output_type": "error",
     "traceback": [
      "\u001b[1;31mThe Kernel crashed while executing code in the current cell or a previous cell. \n",
      "\u001b[1;31mPlease review the code in the cell(s) to identify a possible cause of the failure. \n",
      "\u001b[1;31mClick <a href='https://aka.ms/vscodeJupyterKernelCrash'>here</a> for more info. \n",
      "\u001b[1;31mView Jupyter <a href='command:jupyter.viewOutput'>log</a> for further details."
     ]
    }
   ],
   "source": [
    "# extracellular stimulation setup\n",
    "extra_stim.add_electrode(LIFE, stim1)\n",
    "axon_m.attach_extracellular_stimulation(extra_stim)\n",
    "res = axon_m(t_sim =3)"
   ]
  }
 ],
 "metadata": {
  "kernelspec": {
   "display_name": "nrvx-env",
   "language": "python",
   "name": "python3"
  },
  "language_info": {
   "codemirror_mode": {
    "name": "ipython",
    "version": 3
   },
   "file_extension": ".py",
   "mimetype": "text/x-python",
   "name": "python",
   "nbconvert_exporter": "python",
   "pygments_lexer": "ipython3",
   "version": "3.12.3"
  }
 },
 "nbformat": 4,
 "nbformat_minor": 2
}
