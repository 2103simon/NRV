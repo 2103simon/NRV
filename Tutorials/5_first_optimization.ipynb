{
 "cells": [
  {
   "cell_type": "markdown",
   "metadata": {},
   "source": [
    "# First optimization problem using NRV\n",
    "\n",
    "---\n",
    "In this tutorial, the optimization formalism used in NRV is illustrated through a detailed example.\n",
    "\n",
    "The very first step is, as usual, to import NRV and the required packages and to generate an outputs' repository.\n",
    "\n"
   ]
  },
  {
   "cell_type": "code",
   "execution_count": 1,
   "metadata": {},
   "outputs": [],
   "source": [
    "import matplotlib.pyplot as plt\n",
    "import numpy as np\n",
    "import os\n",
    "import sys\n",
    "sys.path.append(\"../\")\n",
    "import nrv\n",
    "\n",
    "test_name = \"Tutorial_5\"\n",
    "dir_res = f\"./{test_name}/\"\n",
    "if not os.path.isdir(dir_res):\n",
    "    os.mkdir(dir_res)"
   ]
  },
  {
   "cell_type": "markdown",
   "metadata": {},
   "source": [
    "\n",
    "\n",
    "## Principle\n",
    "\n",
    "In NRV, an optimization problem is composed of two components, as illustrated by the figure below: \n",
    " - **An optimizer** : based on third party libraries (``scipy`` and ``pyswarms``) algorithms.\n",
    " - **A cost function**: a function from $\\real^n$ to $\\real$ that should be minimized.\n",
    "\n",
    "\n",
    "In addition, NRV introduces a way to evaluate the impact of specific parameters in simulations and final cost assessment through a `Cost_Function`-class consisting in:\n",
    "\n",
    " - A filter: an optional Python `callable`-object for vector formatting or space restriction.\n",
    " - A static context: the initial point of the simulation, often a NRV-nmod object like axon, fascicle, or nerve, with a `simulate`-method.\n",
    " - A `ContextModifier`-object: creates an updated local context from the static context and input vector.\n",
    " - A `CostEvaluation`-object: evaluates a cost from simulation results. It's a generic Python `callable`-class, allowing user-defined functions.\n",
    "\n",
    "\n"
   ]
  },
  {
   "cell_type": "markdown",
   "metadata": {},
   "source": [
    "\n",
    "![alt text](../docs/images/optim.png)\n"
   ]
  },
  {
   "cell_type": "markdown",
   "metadata": {},
   "source": [
    "## First optimization: Pulse Stimulus on Single axon\n",
    "\n",
    "The objective of the first optimization problem is to **minimize a pulse stimulus energy required by a LIFE-electrode to trigger a single myelinated fibre**.\n",
    "\n",
    "### Cost function\n",
    "\n",
    "To begin, we can create an empty cost function object and fill it progressively with its components."
   ]
  },
  {
   "cell_type": "code",
   "execution_count": 2,
   "metadata": {},
   "outputs": [],
   "source": [
    "## Cost function definition\n",
    "costfname0 = dir_res + \"/energy_cost_biphasic.csv\"\n",
    "\n",
    "my_cost0 = nrv.CostFunction()"
   ]
  },
  {
   "cell_type": "markdown",
   "metadata": {},
   "source": [
    "#### Static context\n",
    "\n",
    "The first step to implement the optimization is to define the static context. This context can be generated with the following script, the same way as in previous examples (XXX). \n",
    "In this first example the context is only composed of:\n",
    "\n",
    " - a myelinated axon: $10mm$ long, $10\\mu m$ diameter large, with a centre located at $(y=50\\mu m, z=0)$\n",
    " - a LIFE-electrode: $1mm$ long, $25\\mu m$ diameter large, with a centre located at $(x=5000\\mu m, y=0, z=0)$\n",
    "\n",
    "---\n",
    "**NOTES:**\n",
    "\n",
    "  -  As the stimulus of the LIFE-electrode will be regenerated during the optimization a *dummy stimulus* is associated to the electrode\n",
    "\n",
    "  - To speed up the simulations done later, in the optimization, the footprints of the electrode on the axon are computed with `get_electrodes_footprints_on_axon` method and save with the context.\n",
    "---\n",
    "\n",
    "Once generated, the axon and its extracellular context can be saved in a `.json` file with using NRV `save` methods (XXX). This file will be loaded by the `cost_function` every times it will be called for the optimization.\n",
    "\n"
   ]
  },
  {
   "cell_type": "code",
   "execution_count": 3,
   "metadata": {},
   "outputs": [
    {
     "name": "stdout",
     "output_type": "stream",
     "text": [
      "NRV INFO: Mesh properties:\n",
      "NRV INFO: Number of processes : 3\n",
      "NRV INFO: Number of entities : 36\n",
      "NRV INFO: Number of nodes : 11349\n",
      "NRV INFO: Number of elements : 80749\n",
      "NRV INFO: Static/Quasi-Static electrical current problem\n",
      "NRV INFO: FEN4NRV: setup the bilinear form\n",
      "NRV INFO: FEN4NRV: setup the linear form\n",
      "NRV INFO: Static/Quasi-Static electrical current problem\n",
      "NRV INFO: FEN4NRV: solving electrical potential\n",
      "NRV INFO: FEN4NRV: solved in 4.045804023742676 s\n"
     ]
    },
    {
     "data": {
      "image/png": "[encoded data removed]",
      "text/plain": [
       "<Figure size 600x600 with 1 Axes>"
      ]
     },
     "metadata": {},
     "output_type": "display_data"
    }
   ],
   "source": [
    "axon_file = dir_res + \"myelinated_axon.json\"\n",
    "\n",
    "ax_l = 10000 # um\n",
    "ax_d=10\n",
    "ax_y=50\n",
    "ax_z=0\n",
    "axon_1 = nrv.myelinated(L=ax_l, d=ax_d, y=ax_y, z=ax_z)\n",
    "\n",
    "\n",
    "LIFE_stim0 = nrv.FEM_stimulation()\n",
    "LIFE_stim0.reshape_nerve(Length=ax_l)\n",
    "life_d = 25 # um\n",
    "life_length = 1000 # um\n",
    "life_x_0_offset = (ax_l-life_length)/2\n",
    "life_y_c_0 = 0\n",
    "life_z_c_0 = 0\n",
    "elec_0 = nrv.LIFE_electrode(\"LIFE\", life_d, life_length, life_x_0_offset, life_y_c_0, life_z_c_0)\n",
    "\n",
    "dummy_stim = nrv.stimulus()\n",
    "dummy_stim.pulse(0, 0.1, 1)\n",
    "LIFE_stim0.add_electrode(elec_0, dummy_stim)\n",
    "\n",
    "axon_1.attach_extracellular_stimulation(LIFE_stim0)\n",
    "axon_1.get_electrodes_footprints_on_axon()\n",
    "_ = axon_1.save(save=True, fname=axon_file, extracel_context=True)\n",
    "\n",
    "fig, ax = plt.subplots(1, 1, figsize=(6,6))\n",
    "axon_1.plot(ax)\n",
    "ax.set_xlim((-1.2*ax_y, 1.2*ax_y))\n",
    "ax.set_ylim((-1.2*ax_y, 1.2*ax_y))\n",
    "\n",
    "del axon_1"
   ]
  },
  {
   "cell_type": "markdown",
   "metadata": {},
   "source": [
    "Once this static context has been saved in the cost function it should be linked with the `cost_function`.\n",
    "\n",
    "For that purpose, we can use the method `set_static_context` as bellow. \n",
    "\n",
    "Note that additional keys arguments can be added to precise simulation parameter. \n",
    "Here we impose a simulation time of $5ms$ and a time step of $5\\mu s$. These arguments will be added when the `simulate` method will be called so all the parameters of a standard simulation can be as in previous example"
   ]
  },
  {
   "cell_type": "code",
   "execution_count": 4,
   "metadata": {},
   "outputs": [],
   "source": [
    "static_context = axon_file\n",
    "t_sim = 5\n",
    "dt = 0.005\n",
    "kwarg_sim = {\n",
    "    \"dt\":dt,\n",
    "    \"t_sim\":t_sim,\n",
    "}\n",
    "\n",
    "my_cost0.set_static_context(axon_file, **kwarg_sim)"
   ]
  },
  {
   "cell_type": "markdown",
   "metadata": {},
   "source": [
    "#### Context modifier\n",
    "\n",
    "The next step is to define how to interpret the tuning parameters to modify the static context. In our problem, we want to modify the LIFE-electrode's stimulus shape and evaluate its impact on the fiber. There are countless ways to define a waveform from a set of points, so let's consider a very simple method:\n",
    "\n",
    "  $-$ The stimulus is a cathodic conventional square pulse. In this scenario, both the pulse duration $T_{sq}$ and pulse amplitude $I_{sq}$ can be optimized, resulting in a two-dimensional optimization problem. The tuning parameters input vector $\\mathcal{X}_{sq}$ of the optimization problem is thus defined as follows:\n",
    "$$\n",
    "\\mathcal{X}_{sq} = \\begin{pmatrix} I_{sq} & T_{sq} \\end{pmatrix} \\;\n",
    "$$\n",
    "\n",
    "#### **Implementation:**\n",
    "\n",
    "In NRV, the modification of the static context can either be done with a callable class or a function. Some `context_modifier` classes have already been implemented in NRV.\n",
    "\n",
    "The `biphasic_stimulus_CM` is appropriate for our problem. Such `context_modifier`(XXX) add a biphasic pulse to a given electrode of a `nrv_simulable` object. \n",
    "To fit with our problem, we set the following arguments:\n",
    " - `start=1`: the cathodic pulse to start at $1ms$.\n",
    " - `I_cathod=\"0\"` the cathodic pulse amplitude is defined by the first value of the input vector $\\mathcal{X}_{sq}$.\n",
    " - `T_cathod=\"1\"` the cathodic pulse duration is defined by the second value of the input vector $\\mathcal{X}_{sq}$.\n",
    " - `I_anod=0` anodic pulse amplitude is 0 (we consider a monophasic pulse).\n",
    "\n",
    "---\n",
    "**NOTE**\n",
    "\n",
    "Arguments of `biphasic_stimulus_CM` are similar to those of `stimulus.biphasic_pulse` (XXX). User can either set the argument to a specific value or specify that it should be defined by a tuning parameters input vector. In the second case the argument should be a `str` of the index of the argument in the vector.\n",
    "\n",
    "---"
   ]
  },
  {
   "cell_type": "code",
   "execution_count": 5,
   "metadata": {},
   "outputs": [],
   "source": [
    "t_start = 1\n",
    "I_max_abs = 100\n",
    "\n",
    "cm_0 = nrv.biphasic_stimulus_CM(start=t_start, I_cathod=\"0\", T_cathod=\"1\", I_anod=0)\n",
    "my_cost0.set_context_modifier(cm_0)"
   ]
  },
  {
   "cell_type": "markdown",
   "metadata": {},
   "source": [
    "The following lines illustrate the stimuli generated by the `cm_0` for various input parameters.\n",
    "\n",
    "As expected:\n",
    " - The first dimension of fix the negative amplitude of the pulse.\n",
    " - The second the duration the pulse."
   ]
  },
  {
   "cell_type": "code",
   "execution_count": 6,
   "metadata": {},
   "outputs": [
    {
     "data": {
      "image/png": "[encoded data removed]",
      "text/plain": [
       "<Figure size 640x480 with 1 Axes>"
      ]
     },
     "metadata": {},
     "output_type": "display_data"
    }
   ],
   "source": [
    "test_points = np.array([[70, 0.5], [50, 1], [30, 1.5], [10, 2]])\n",
    "\n",
    "fig, ax = plt.subplots()\n",
    "for X in test_points:\n",
    "    axon_x = cm_0(X, static_context)\n",
    "    stim = axon_x.extra_stim.stimuli[0]\n",
    "    stim.plot(ax, label=f\"X={X}\")\n",
    "    ax.legend()\n",
    "    del axon_x"
   ]
  },
  {
   "cell_type": "markdown",
   "metadata": {},
   "source": [
    "#### Cost Evaluation\n",
    "\n",
    "In our problem, we want at the same time to minimize the energy of the stimulus and maximize the number of fibre recruited. Therefore, we can evaluate the *cost* of a stimulus on the context using the following equation:\n",
    "$$\n",
    "    Cost = \\alpha_e\\sum_{t_k}{i_{stim}^2(t_k)}+\\alpha_r(N_{axon}-N_{recruited})\n",
    "$$\n",
    "\n",
    "With:\n",
    " - $t_k$ as the discrete time step of the simulation.\n",
    " - $N_{axon}$ as the number of axon simulated, 1 in this first problem.\n",
    " - $N_{recruited}$ as the number of fibre triggered by the stimulation.\n",
    " - $\\alpha_e$ and $\\alpha_r$ as two weighting coefficients.\n",
    "\n",
    "\n",
    "**Implementation:**\n",
    "\n",
    "In NRV, the computation of this cost from simulation results is handled by a function or a callable class instance called `cost_evaluation`. As for `context_modifier`, several `cost_evaluation` classes are already implemented in the NRV package. These classes can be combined with algebraic operations to easily generate more complex cases.\n",
    "\n",
    "Here, the cost evaluation is generated using two classes implemented in NRV:\n",
    " 1. `recrutement_count_CE`: computes the number of triggered fibres.\n",
    "\n",
    " 2. `stim_energy_CE`: computes a value proportional to the stimulus energy.\n",
    "\n",
    "---\n",
    "**NOTES:**\n",
    "\n",
    " - The second term of the equation ($\\alpha_r(N_{axon} - N_{recruited})$) essentially represents a function that is 1 if the fibre is triggered and 0 otherwise. This seemingly complicated notation allows us to use the same equation to evaluate a stimulus in contexts involving a larger number of axons.\n",
    "\n",
    " - With a good knowledge of the simulation results, it is possible to implement custom `cost_evaluation`, similar to `context_modifier`.\n",
    "  It should be a function or a callable class taking a `sim_results` object and any additional `kwargs` parameters, returning a corresponding cost (`float`).\n",
    "\n",
    "---"
   ]
  },
  {
   "cell_type": "code",
   "execution_count": 7,
   "metadata": {},
   "outputs": [],
   "source": [
    "costR = nrv.recrutement_count_CE(reverse=True)\n",
    "costC = nrv.stim_energy_CE()\n",
    "\n",
    "cost_evaluation = costR + 0.01 * costC\n",
    "my_cost0.set_cost_evaluation(cost_evaluation)"
   ]
  },
  {
   "cell_type": "markdown",
   "metadata": {},
   "source": [
    "## Optimization problem\n",
    "\n",
    "At this point, the cost function which should be minimized is fully defined.\n",
    "We can now start to define the whole optimization by setting the right optimizer.\n",
    "\n",
    "The cost_function define for the problem is not continuous because of the second term of the cost evaluation equation ($\\alpha_r(N_{axon} - N_{recruited})$). Therefore, a metaheuristic is more suitable for our problem.\n",
    "\n",
    "For now, the only metaheuristic implemented in NRV is the PSO based on the module [Pyswarms](https://pyswarms.readthedocs.io/en/latest/). "
   ]
  },
  {
   "cell_type": "code",
   "execution_count": 18,
   "metadata": {},
   "outputs": [],
   "source": [
    "pso_kwargs = {\n",
    "    \"maxiter\" : 20,\n",
    "    \"n_particles\" : 20,\n",
    "    \"opt_type\" : \"local\",\n",
    "    \"options\": {'c1': 0.45, 'c2': 0.45, 'w': 0.75, 'k': 5, 'p': 1},\n",
    "    \"bh_strategy\": \"reflective\",\n",
    "}\n",
    "pso_opt = nrv.PSO_optimizer(**pso_kwargs)"
   ]
  },
  {
   "cell_type": "code",
   "execution_count": 8,
   "metadata": {},
   "outputs": [
    {
     "name": "stderr",
     "output_type": "stream",
     "text": [
      "pyswarms.single.general_optimizer: 100%|██████████|20/20, best_cost=0.0495\n"
     ]
    }
   ],
   "source": [
    "# Problem definition\n",
    "fname0 = dir_res + \"/energy_optim_pso_biphasic.json\"\n",
    "my_prob = nrv.Problem(save_problem_results=False)\n",
    "my_prob.optimizer = pso_opt\n",
    "\n",
    "\n",
    "t_end = 0.5\n",
    "duration_bound = (0.01, t_end)\n",
    "bounds0 = (\n",
    "    (0, I_max_abs),\n",
    "    duration_bound\n",
    ")\n",
    "pso_kwargs0 = {\n",
    "    \"maxiter\" : 20,\n",
    "    \"n_particles\" : 20,\n",
    "    \"dimensions\" : 2,\n",
    "    \"opt_type\" : \"local\",\n",
    "    \"options\": {'c1': 0.45, 'c2': 0.45, 'w': 0.75, 'k': 5, 'p': 1},\n",
    "    \"bh_strategy\": \"reflective\",\n",
    "    \"bounds\" : bounds0,\n",
    "    \"comment\":\"pulse\"}\n",
    "\n",
    "\n",
    "my_prob.costfunction = my_cost0\n",
    "res0 = my_prob(problem_fname=fname0, **pso_kwargs0)\n"
   ]
  },
  {
   "cell_type": "markdown",
   "metadata": {},
   "source": [
    "Optimization results are saved in `nrv_result` class. Therefore, all results can either be access as `dictionary` keys or as attributes.\n",
    "\n"
   ]
  },
  {
   "cell_type": "code",
   "execution_count": 9,
   "metadata": {},
   "outputs": [
    {
     "name": "stdout",
     "output_type": "stream",
     "text": [
      "((0, 100), (0.01, 0.5)) [8.389865991263383, 0.07034935343766316]\n"
     ]
    },
    {
     "data": {
      "image/png": "[encoded data removed]",
      "text/plain": [
       "<Figure size 1000x300 with 2 Axes>"
      ]
     },
     "metadata": {},
     "output_type": "display_data"
    }
   ],
   "source": [
    "fig_costs, axs_costs = plt.subplots(1, 2, figsize=(10, 3))\n",
    "res0.plot_cost_history(axs_costs[0])\n",
    "stim = cm_0(res0.x, static_context).extra_stim.stimuli[0]\n",
    "\n",
    "stim.plot(axs_costs[1])\n",
    "\n",
    "print(bounds0, res0.x)\n"
   ]
  },
  {
   "cell_type": "code",
   "execution_count": 17,
   "metadata": {},
   "outputs": [
    {
     "name": "stdout",
     "output_type": "stream",
     "text": [
      "<class 'nrv.nmod.results.myelinated_results.myelinated_results'>\n"
     ]
    },
    {
     "data": {
      "image/png": "[encoded data removed]",
      "text/plain": [
       "<Figure size 640x480 with 1 Axes>"
      ]
     },
     "metadata": {},
     "output_type": "display_data"
    }
   ],
   "source": [
    "simres = res0.compute_best_pos(my_cost0)\n",
    "nrv.rasterize(simres, \"V_mem\")\n",
    "plt.figure()\n",
    "plt.scatter(simres[\"V_mem_raster_time\"], simres[\"V_mem_raster_x_position\"],color = 'darkslateblue')\n",
    "plt.xlabel('Times (ms)')\n",
    "plt.ylabel('Membrane voltage $V_{mem} (mV)$')\n",
    "plt.xlim(0, t_sim)\n",
    "plt.ylim(0, simres[\"L\"])\n",
    "plt.grid()\n",
    "plt.tight_layout()"
   ]
  },
  {
   "cell_type": "markdown",
   "metadata": {},
   "source": [
    "## Second optimization\n",
    "\n",
    "2. The stimulation is defined as an arbitrary cathodic pulse through interpolated splines over $2$ points which are individually defined in time and amplitude. This second optimization scenario results in a $4$-dimensional problem with the input vector $\\mathcal{X}_{s_2}$ defined as follow: \n",
    "$$\n",
    "\\mathcal{X}_{s_2} = \\begin{pmatrix} I_{s_1} & t_{s_1} & I_{s_2} & t_{s_2}    \\end{pmatrix}\n",
    "$$"
   ]
  },
  {
   "cell_type": "code",
   "execution_count": null,
   "metadata": {},
   "outputs": [],
   "source": [
    "t_sim = 5\n",
    "I_bound = (-I_max_abs, 0)\n",
    "t_bound = (0, t_end)\n",
    "\n",
    "\n",
    "kwrgs_interp = {\n",
    "    \"dt\": dt,\n",
    "    \"amp_start\": 0,\n",
    "    \"amp_stop\": 0,\n",
    "    \"intertype\": \"Spline\",\n",
    "    \"bounds\": I_bound,\n",
    "    \"t_sim\":t_sim,\n",
    "    \"t_end\": t_end,\n",
    "    \"t_shift\": t_start,\n",
    "    }\n",
    "cm_1 = nrv.stimulus_CM(interpolator=nrv.interpolate_Npts, intrep_kwargs=kwrgs_interp, t_sim=t_sim)"
   ]
  },
  {
   "cell_type": "code",
   "execution_count": null,
   "metadata": {},
   "outputs": [],
   "source": [
    "test_points = np.array([[-10, 1, ], [50, 1]])\n",
    "\n",
    "fig, ax = plt.subplots()\n",
    "for X in test_points:\n",
    "    axon_x = cm_0(X, static_context)\n",
    "    stim = axon_x.extra_stim.stimuli[0]\n",
    "    stim.plot(ax, label=f\"X={X}\")\n",
    "    ax.legend()\n",
    "    del axon_x"
   ]
  },
  {
   "cell_type": "markdown",
   "metadata": {},
   "source": [
    "This time all the components of the new `cost_function` are already defined. It can thus be directly defined at the initialization as bellow."
   ]
  },
  {
   "cell_type": "code",
   "execution_count": null,
   "metadata": {},
   "outputs": [],
   "source": [
    "my_cost_1 = nrv.CostFunction(\n",
    "    static_context=static_context,\n",
    "    context_modifier=cm_1,\n",
    "    cost_evaluation=cost_evaluation,\n",
    "    kwargs_S=kwarg_sim,\n",
    "    t_sim=t_sim,\n",
    "    file_name=costfname0)"
   ]
  },
  {
   "cell_type": "markdown",
   "metadata": {},
   "source": []
  },
  {
   "cell_type": "code",
   "execution_count": null,
   "metadata": {},
   "outputs": [],
   "source": [
    "bounds1 = (t_bound, I_bound, t_bound, I_bound)\n",
    "\n",
    "pso_kwargs2 = {\n",
    "    \"n_particles\" : 20,\n",
    "    \"bounds\" : bounds1,\n",
    "    \"dimensions\" : 4,\n",
    "    \"maxiter\" : 50,\n",
    "    \"opt_type\" : \"local\",\n",
    "    \"options\": {'c1': 0.5, 'c2': 0.5, 'w': 0.75, 'k': 5, 'p': 1},\n",
    "    \"bh_strategy\": \"reflective\",\n",
    "    \"comment\":\"spline 2pt\"}\n",
    "\n",
    "my_prob.costfunction = my_cost_1\n",
    "res1 = my_prob(problem_fname=fname0, **pso_kwargs2)"
   ]
  },
  {
   "cell_type": "code",
   "execution_count": null,
   "metadata": {},
   "outputs": [],
   "source": [
    "res1.plot_cost_history(axs_costs[0])\n",
    "stim = cm_1(res1.x, static_context).extra_stim.stimuli[0]\n",
    "\n",
    "stim.plot(axs_costs[1])\n",
    "\n",
    "print(bounds1, res1.x)\n",
    "\n",
    "fig_costs\n"
   ]
  },
  {
   "cell_type": "markdown",
   "metadata": {},
   "source": []
  },
  {
   "cell_type": "markdown",
   "metadata": {},
   "source": [
    "---"
   ]
  },
  {
   "cell_type": "markdown",
   "metadata": {},
   "source": []
  },
  {
   "cell_type": "code",
   "execution_count": null,
   "metadata": {},
   "outputs": [],
   "source": [
    "# nerve_file = dir_res + \"nerve.json\"\n",
    "\n",
    "# outer_d = 5 # mm\n",
    "# nerve_d = 300 # um\n",
    "# nerve_l = 10000 # um\n",
    "\n",
    "# fasc1_d = 250 # um\n",
    "# fasc1_y = 0\n",
    "# fasc1_z = 0\n",
    "# n_ax1 = 100\n",
    "\n",
    "\n",
    "# nerve_1 = nrv.nerve(length=nerve_l, diameter=nerve_d, Outer_D=outer_d)\n",
    "\n",
    "# axons_diameters, axons_type, M_diam_list, U_diam_list = nrv.create_axon_population(n_ax1, percent_unmyel=0, M_stat=\"Ochoa_M\", U_stat=\"Ochoa_U\",)\n",
    "\n",
    "# fascicle_1 = nrv.fascicle(ID=0)      #we can add diameter here / no need to call define_circular_contour (not tested)\n",
    "# fascicle_1.define_circular_contour(fasc1_d)\n",
    "# fascicle_1.fill_with_population(axons_diameters, axons_type, fit_to_size=True,delta=5)\n",
    "# fascicle_1.generate_random_NoR_position()\n",
    "# nerve_1.add_fascicle(fascicle=fascicle_1, y=fasc1_y, z=fasc1_z)\n",
    "\n",
    "# # LIFE in neither of the two fascicles\n",
    "# LIFE_stim0 = nrv.FEM_stimulation()\n",
    "# life_x_0_offset = (nerve_l-life_length)/2\n",
    "# elec_0 = nrv.LIFE_electrode(\"LIFE\", life_d, life_length, life_x_0_offset, life_y_c_0, life_z_c_0)\n",
    "\n",
    "# stim0 = nrv.stimulus()\n",
    "# stim0.biphasic_pulse(start, I_cathod, T_cathod, I_anod, T_inter)\n",
    "# LIFE_stim0.add_electrode(elec_0, stim0)\n",
    "# nerve_1.attach_extracellular_stimulation(LIFE_stim0)\n",
    "\n",
    "# fig, ax = plt.subplots(1, 1, figsize=(6,6))\n",
    "# nerve_1.plot(ax)\n",
    "\n",
    "# nerve_1.compute_electrodes_footprints()\n",
    "# nerve_1.set_parameters(postproc_script=\"is_excited\")\n",
    "# _ = nerve_1.save(fname=nerve_file, extracel_context=True)"
   ]
  },
  {
   "cell_type": "markdown",
   "metadata": {},
   "source": []
  }
 ],
 "metadata": {
  "kernelspec": {
   "display_name": "nrvdev",
   "language": "python",
   "name": "python3"
  },
  "language_info": {
   "codemirror_mode": {
    "name": "ipython",
    "version": 3
   },
   "file_extension": ".py",
   "mimetype": "text/x-python",
   "name": "python",
   "nbconvert_exporter": "python",
   "pygments_lexer": "ipython3",
   "version": "3.12.2"
  }
 },
 "nbformat": 4,
 "nbformat_minor": 2
}
