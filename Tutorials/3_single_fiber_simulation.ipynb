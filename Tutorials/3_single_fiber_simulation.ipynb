{
 "cells": [
  {
   "cell_type": "markdown",
   "metadata": {},
   "source": [
    "# Stimulating single fibers with NRV\n",
    "-----------------------------\n",
    "\n",
    "In this tutorial, we will create a monofascicular nerve, attach it to one fiber and stimulate it with intra- and extra-fascicular electrodes.\n",
    "As before, we start by importing the NRV package as well as numpy and matplotlib:"
   ]
  },
  {
   "cell_type": "code",
   "execution_count": 1,
   "metadata": {},
   "outputs": [],
   "source": [
    "import nrv\n",
    "import matplotlib.pyplot as plt\n",
    "import numpy as np\n",
    "import sys\n"
   ]
  },
  {
   "cell_type": "markdown",
   "metadata": {},
   "source": [
    "## Axon definition\n",
    "Let's start by creating a 10µm myelinated axon, similarly to previous tutorials:"
   ]
  },
  {
   "cell_type": "code",
   "execution_count": 2,
   "metadata": {},
   "outputs": [],
   "source": [
    "y_a = 0                                                                     #axon y position, in [µm]\n",
    "z_a = 0                                                                     #axon z position, in [µm]\n",
    "d_a = 10                                                                    #axon diameter position, in [µm]\n",
    "n_NoR = 20                                                                  #number of Node-of-Ranvier\n",
    "L_a = nrv.get_length_from_nodes(d_a, n_NoR)                                 #Get the axon length from number of NoR\n",
    "axon_m = nrv.myelinated(y_a, z_a, d_a, L_a, model=\"MRG\", rec=\"nodes\")       #we recording only at the node of Ranvier"
   ]
  },
  {
   "cell_type": "markdown",
   "metadata": {},
   "source": [
    "## Extracellular context Creation\n",
    "\n",
    "We now need to create the extracellular context of our model, which consists in the nerve and electrode geometry, as well as defining the material properties. Extracellular context instances are created with the ```FEM_stimulation```-class. We can also specify the endoneurium conductivity. Here we will use ```endoneurium_ranck```, and the default value for the other materials."
   ]
  },
  {
   "cell_type": "code",
   "execution_count": 3,
   "metadata": {},
   "outputs": [],
   "source": [
    "extra_stim = nrv.FEM_stimulation(endo_mat='endoneurium_ranck')"
   ]
  },
  {
   "cell_type": "markdown",
   "metadata": {},
   "source": [
    "We can set the diameter of our nerves to 1500µm and length slighly longer than the axon length (to facilitate FEM computation):"
   ]
  },
  {
   "cell_type": "code",
   "execution_count": 4,
   "metadata": {},
   "outputs": [],
   "source": [
    "d_n = 1500   #in um\n",
    "extra_stim.reshape_nerve(d_n,L_a*1.2)"
   ]
  },
  {
   "cell_type": "markdown",
   "metadata": {},
   "source": [
    "Let's also set the diameter of the saline outer box to 10mm: "
   ]
  },
  {
   "cell_type": "code",
   "execution_count": 5,
   "metadata": {},
   "outputs": [],
   "source": [
    "d_outbox= 5        #in mm\n",
    "extra_stim.reshape_outerBox(d_outbox)"
   ]
  },
  {
   "cell_type": "markdown",
   "metadata": {},
   "source": [
    "And add a 1000µm fascicle in the nerves:"
   ]
  },
  {
   "cell_type": "code",
   "execution_count": 6,
   "metadata": {},
   "outputs": [],
   "source": [
    "d_f = 1000           #in um\n",
    "y_f = 0                 #y pos of the fascicle, in um\n",
    "z_f = 0                 #y pos of the fascicle, in um\n",
    "extra_stim.reshape_fascicle(Fascicle_D = d_f, y_c=y_f, z_c= z_f)"
   ]
  },
  {
   "cell_type": "markdown",
   "metadata": {},
   "source": [
    "Finally, we add the electrodes to our FEM models. Let's start by creating a 1000µm in length, 25µm in diameter LIFE electrode. The central point of the LIFE active-site is aligned with the 10th node-of-ranvier of our fiber, and located 100µm away (on the z-axis) from the fiber:"
   ]
  },
  {
   "cell_type": "code",
   "execution_count": 7,
   "metadata": {},
   "outputs": [],
   "source": [
    "LIFE_d = 25                         # LIFE's diameter, in um\n",
    "LIFE_l = 1000                       # LIFE's active-site length, in um\n",
    "x_LIFE = axon_m.x_nodes[n_NoR//2]\t# LIFE x position, in [um]\n",
    "y_LIFE = 0                          # LIFE y position, in [um]\n",
    "z_LIFE = 100                        # LIFE z position, in [um]\n",
    "x_LIFE_offset = x_LIFE - (LIFE_l/2)\n",
    "LIFE = nrv.LIFE_electrode('LIFE_1', LIFE_d, LIFE_l, x_LIFE_offset, y_LIFE, z_LIFE)"
   ]
  },
  {
   "cell_type": "markdown",
   "metadata": {},
   "source": [
    "Similarly, we create a monopolar cuff-like electrode:"
   ]
  },
  {
   "cell_type": "code",
   "execution_count": 8,
   "metadata": {},
   "outputs": [],
   "source": [
    "contact_width=500               #width (length) of the cuff active-site, in um\n",
    "contact_thickness=100           #tickness of the cuff active-site, in um\n",
    "insulator_width=1000            #width (length) of the cuff insulator, in um\n",
    "insulator_thickness=500         #tickness of the cuff insulator, in um\n",
    "\n",
    "x_cuff = axon_m.x_nodes[n_NoR//2] # cuff z position, in [um]\n",
    "cuff = nrv.CUFF_electrode('CUFF_1', contact_length=contact_width,\n",
    "        contact_thickness=contact_thickness, insulator_length=insulator_width,\n",
    "        insulator_thickness=insulator_thickness, x_center=x_cuff)"
   ]
  },
  {
   "cell_type": "markdown",
   "metadata": {},
   "source": [
    "Before linking our electrodes to their FEM models, we need to setup a stimulus. For that, we create a very basic monophasic cathodic 50µs/50µA pulse:"
   ]
  },
  {
   "cell_type": "code",
   "execution_count": 9,
   "metadata": {},
   "outputs": [],
   "source": [
    "start = 0.5             #start of the pulse, in ms\n",
    "I_pulse = 50            #pulse amplitude, in us\n",
    "T_pulse = 50*1e-3        #pulse duration, in ms\n",
    "stim1 = nrv.stimulus()\n",
    "stim1.pulse(start,-I_pulse,T_pulse)"
   ]
  },
  {
   "cell_type": "markdown",
   "metadata": {},
   "source": [
    "We can plot the stimulus to check it, using built-in plot function of the ```stimulus```class:"
   ]
  },
  {
   "cell_type": "code",
   "execution_count": 10,
   "metadata": {},
   "outputs": [
    {
     "data": {
      "text/plain": [
       "Text(0, 0.5, 'amplitude (µA)')"
      ]
     },
     "execution_count": 10,
     "metadata": {},
     "output_type": "execute_result"
    },
    {
     "data": {
      "image/png": "[encoded data removed]",
      "text/plain": [
       "<Figure size 600x600 with 1 Axes>"
      ]
     },
     "metadata": {},
     "output_type": "display_data"
    }
   ],
   "source": [
    "fig, ax = plt.subplots(1, 1, figsize=(6,6))\n",
    "stim1.plot(ax)\n",
    "ax.set_xlabel(\"time (ms)\")\n",
    "ax.set_ylabel(\"amplitude (µA)\")"
   ]
  },
  {
   "cell_type": "markdown",
   "metadata": {},
   "source": [
    "We will also create a dummy stimulus, that we will apply to the electrode we don't want to use"
   ]
  },
  {
   "cell_type": "code",
   "execution_count": 11,
   "metadata": {},
   "outputs": [],
   "source": [
    "I_pulse_dum = 0.1           #pulse amplitude, in us\n",
    "T_pulse_dum = 1\n",
    "dummy_stim = nrv.stimulus()\n",
    "dummy_stim.pulse(start,-I_pulse_dum,T_pulse_dum)"
   ]
  },
  {
   "cell_type": "markdown",
   "metadata": {},
   "source": [
    "Electrodes can be simply linked the FEM model by using the ```add_electrode```-method of the ```FEM_stimulation```-object, which combine an ```electrode```-object to a ```stimulus```-object and attach it to the FEM model:"
   ]
  },
  {
   "cell_type": "code",
   "execution_count": 12,
   "metadata": {},
   "outputs": [],
   "source": [
    "extra_stim.add_electrode(LIFE, stim1)           #ID = 0\n",
    "extra_stim.add_electrode(cuff, dummy_stim)      #not stim on the cuff - ID = 1"
   ]
  },
  {
   "cell_type": "markdown",
   "metadata": {},
   "source": [
    "ID of electrode is incremented as we add them to the ``extra_stim``: here the ID for the LIFE is 0 and 1 for the cuff electrode. Let's write it to variable, so we don't mix them later!"
   ]
  },
  {
   "cell_type": "code",
   "execution_count": 13,
   "metadata": {},
   "outputs": [],
   "source": [
    "ID_LIFE = 0\n",
    "ID_cuff = 1 "
   ]
  },
  {
   "cell_type": "markdown",
   "metadata": {},
   "source": [
    "## Connecting the FEM model to the axon and simulating it:\n",
    "Now it is time to attach the extracellular context to our axon. It can be simply be done with the ``attach_extracellular_stimulation``:"
   ]
  },
  {
   "cell_type": "code",
   "execution_count": 14,
   "metadata": {},
   "outputs": [],
   "source": [
    "axon_m.attach_extracellular_stimulation(extra_stim)"
   ]
  },
  {
   "cell_type": "markdown",
   "metadata": {},
   "source": [
    "And simulate it and save the results:"
   ]
  },
  {
   "cell_type": "code",
   "execution_count": 15,
   "metadata": {},
   "outputs": [
    {
     "name": "stdout",
     "output_type": "stream",
     "text": [
      "NRV INFO: Mesh properties:\n",
      "NRV INFO: Number of processes : 3\n",
      "NRV INFO: Number of entities : 70\n",
      "NRV INFO: Number of nodes : 9567\n",
      "NRV INFO: Number of elements : 67397\n",
      "NRV INFO: Static/Quasi-Static electrical current problem\n",
      "NRV INFO: FEN4NRV: setup the bilinear form\n",
      "NRV INFO: FEN4NRV: setup the linear form\n",
      "NRV INFO: Static/Quasi-Static electrical current problem\n",
      "NRV INFO: FEN4NRV: solving electrical potential\n",
      "NRV INFO: FEN4NRV: solved in 5.293697357177734 s\n",
      "NRV INFO: Static/Quasi-Static electrical current problem\n",
      "NRV INFO: FEN4NRV: solving electrical potential\n",
      "NRV INFO: FEN4NRV: solved in 8.822656393051147 s\n"
     ]
    }
   ],
   "source": [
    "res_LIFE = axon_m(t_sim=3) "
   ]
  },
  {
   "cell_type": "markdown",
   "metadata": {},
   "source": [
    "We can plot the axon's membrane voltage across time and space with a colormap:"
   ]
  },
  {
   "cell_type": "code",
   "execution_count": 16,
   "metadata": {},
   "outputs": [
    {
     "data": {
      "image/png": "[encoded data removed]",
      "text/plain": [
       "<Figure size 640x480 with 2 Axes>"
      ]
     },
     "metadata": {},
     "output_type": "display_data"
    }
   ],
   "source": [
    "fig, ax = plt.subplots(1)\n",
    "cbar = res_LIFE.colormap_plot(ax, \"V_mem\")\n",
    "ax.set_xlabel('Time (ms)')\n",
    "ax.set_ylabel(\"Fiber's x-axis position (µm)\")\n",
    "cbar.set_label(r'Membrane Voltage $V_{mem}$ (mV)')\n",
    "fig.tight_layout()"
   ]
  },
  {
   "cell_type": "markdown",
   "metadata": {},
   "source": [
    "We clearly see that the stimulation generated an action potential in the axon! We can automatically detect it with the ``is_recruited`` method of the ``axon_result`` class, which returns true if an AP is detected in the axon:"
   ]
  },
  {
   "cell_type": "code",
   "execution_count": 17,
   "metadata": {},
   "outputs": [
    {
     "data": {
      "text/plain": [
       "True"
      ]
     },
     "execution_count": 17,
     "metadata": {},
     "output_type": "execute_result"
    }
   ],
   "source": [
    "res_LIFE.is_recruited()"
   ]
  },
  {
   "cell_type": "markdown",
   "metadata": {},
   "source": [
    "Now let's put the ``dummy_stim`` to the LIFE electrode, and re-run the simulation:"
   ]
  },
  {
   "cell_type": "code",
   "execution_count": 18,
   "metadata": {},
   "outputs": [
    {
     "data": {
      "text/plain": [
       "False"
      ]
     },
     "execution_count": 18,
     "metadata": {},
     "output_type": "execute_result"
    }
   ],
   "source": [
    "axon_m.change_stimulus_from_electrode(ID_LIFE,dummy_stim)\n",
    "axon_m.change_stimulus_from_electrode(1,dummy_stim)\n",
    "res_LIFE = axon_m(t_sim=3) \n",
    "res_LIFE.is_recruited()"
   ]
  },
  {
   "cell_type": "markdown",
   "metadata": {},
   "source": [
    "As expected, no axon is detected as the axon is not being stimulated! We also observe that the simulation was much faster. Indeed, as long as we do not change the geometrical properties of the model, we do not need to re-run the FEM solver again. \n",
    "Let's plot the axon's voltage membrane to verify the statement of the ``is_recruited`` method:"
   ]
  },
  {
   "cell_type": "code",
   "execution_count": 19,
   "metadata": {},
   "outputs": [
    {
     "data": {
      "image/png": "[encoded data removed]",
      "text/plain": [
       "<Figure size 640x480 with 2 Axes>"
      ]
     },
     "metadata": {},
     "output_type": "display_data"
    }
   ],
   "source": [
    "fig, ax = plt.subplots(1)\n",
    "cbar = res_LIFE.colormap_plot(ax, \"V_mem\")\n",
    "ax.set_xlabel('Time (ms)')\n",
    "ax.set_ylabel(\"Fiber's x-axis position (µm)\")\n",
    "cbar.set_label(r'Membrane Voltage $V_{mem}$ (mV)')\n",
    "fig.tight_layout()"
   ]
  },
  {
   "cell_type": "markdown",
   "metadata": {},
   "source": [
    "And indeed we only see the artifact from the dummy stimulus on the membrane's voltage. Now let's stimulate with the cuff electrode:"
   ]
  },
  {
   "cell_type": "code",
   "execution_count": 20,
   "metadata": {},
   "outputs": [
    {
     "data": {
      "text/plain": [
       "False"
      ]
     },
     "execution_count": 20,
     "metadata": {},
     "output_type": "execute_result"
    }
   ],
   "source": [
    "axon_m.change_stimulus_from_electrode(ID_cuff,stim1)\n",
    "res_cuff = axon_m(t_sim=3) \n",
    "res_cuff.is_recruited()"
   ]
  },
  {
   "cell_type": "markdown",
   "metadata": {},
   "source": [
    "The axon is not recruited with a 50µs/50µA delivered through the cuff. Let's multiply the stimulation current by four:"
   ]
  },
  {
   "cell_type": "code",
   "execution_count": 21,
   "metadata": {},
   "outputs": [
    {
     "data": {
      "text/plain": [
       "True"
      ]
     },
     "execution_count": 21,
     "metadata": {},
     "output_type": "execute_result"
    }
   ],
   "source": [
    "axon_m.change_stimulus_from_electrode(ID_cuff,stim1*4)\n",
    "res_cuff = axon_m(t_sim=3) \n",
    "res_cuff.is_recruited()"
   ]
  },
  {
   "cell_type": "markdown",
   "metadata": {},
   "source": [
    "## Stimulation threshold curves\n",
    "\n",
    "The minimum current required to recruit a fiber is called the activation threshold. This threshold depends upon the type of electrode, the nerve geometry, the axon-to-electrode distance, the shape of the stimulation, the type and diameter of axon, etc. This section describes how to easily find the stimulation threshold of an axon, with a defined extracellular context. For that, we can use the ``firing_threshold_from_axon`` function from NRV.\n",
    "First, let's put back the ``dummy_sim`` on both electrodes:"
   ]
  },
  {
   "cell_type": "code",
   "execution_count": 22,
   "metadata": {},
   "outputs": [],
   "source": [
    "axon_m.change_stimulus_from_electrode(ID_cuff,dummy_stim)\n",
    "axon_m.change_stimulus_from_electrode(ID_LIFE,dummy_stim)"
   ]
  },
  {
   "cell_type": "markdown",
   "metadata": {},
   "source": [
    "Currently, the ``firing_threshold_from_axon`` function works only with biphasic pulse. We will however stay with our monophasic pulse by setting the anodic current to 0µA. Let's first get the threshold when stimulating with LIFE:"
   ]
  },
  {
   "cell_type": "code",
   "execution_count": 23,
   "metadata": {},
   "outputs": [
    {
     "name": "stdout",
     "output_type": "stream",
     "text": [
      "NRV INFO: Iteration number 1, testing firing current amplitude 250 uA\n",
      "NRV INFO: ... Iteration simulation performed in 0.14953279495239258 s\n",
      "NRV INFO: ... Spike triggered\n",
      "NRV INFO: Iteration number 2, testing firing current amplitude 0 uA\n",
      "NRV INFO: ... Iteration simulation performed in 0.1485748291015625 s\n",
      "NRV INFO: ... Spike not triggered\n",
      "NRV INFO: Iteration number 3, testing firing current amplitude 125.0 uA\n",
      "NRV INFO: ... Iteration simulation performed in 0.14812707901000977 s\n",
      "NRV INFO: ... Spike triggered\n",
      "NRV INFO: Iteration number 4, testing firing current amplitude 62.5 uA\n",
      "NRV INFO: ... Iteration simulation performed in 0.14702486991882324 s\n",
      "NRV INFO: ... Spike triggered\n",
      "NRV INFO: Iteration number 5, testing firing current amplitude 31.25 uA\n",
      "NRV INFO: ... Iteration simulation performed in 0.1499006748199463 s\n",
      "NRV INFO: ... Spike triggered\n",
      "NRV INFO: Iteration number 6, testing firing current amplitude 15.625 uA\n",
      "NRV INFO: ... Iteration simulation performed in 0.14605283737182617 s\n",
      "NRV INFO: ... Spike not triggered\n",
      "NRV INFO: Iteration number 7, testing firing current amplitude 23.4375 uA\n",
      "NRV INFO: ... Iteration simulation performed in 0.14760208129882812 s\n",
      "NRV INFO: ... Spike triggered\n",
      "NRV INFO: Iteration number 8, testing firing current amplitude 19.53125 uA\n",
      "NRV INFO: ... Iteration simulation performed in 0.14692091941833496 s\n",
      "NRV INFO: ... Spike triggered\n",
      "NRV INFO: Iteration number 9, testing firing current amplitude 17.578125 uA\n",
      "NRV INFO: ... Iteration simulation performed in 0.1528329849243164 s\n",
      "NRV INFO: ... Spike triggered\n",
      "NRV INFO: Iteration number 10, testing firing current amplitude 16.6015625 uA\n",
      "NRV INFO: ... Iteration simulation performed in 0.14621496200561523 s\n",
      "NRV INFO: ... Spike not triggered\n",
      "NRV INFO: Iteration number 11, testing firing current amplitude 17.08984375 uA\n",
      "NRV INFO: ... Iteration simulation performed in 0.1472630500793457 s\n",
      "NRV INFO: ... Spike triggered\n",
      "LIFE threshold: 16.8µA\n"
     ]
    }
   ],
   "source": [
    "thr_LIFE = nrv.firing_threshold_from_axon(\n",
    "    axon = axon_m,                              #axon we're looking the threshold of\n",
    "    cath_time = T_pulse,                        #pulse duration\n",
    "    elec_id = ID_LIFE,                          #stimulation electrode ID \n",
    "    amp_max = 250,                              #maximum amplitude for the search (in µA)\n",
    "    amp_tol = 5,                                #search tolerance, in %\n",
    "    t_sim = 3,                                  #stimulation duration, in ms\n",
    "    cath_an_ratio = 0,                          #cathodic/anodic ratio: 0 --> cathodic only\n",
    ")\n",
    "print(f'LIFE threshold: {np.round(thr_LIFE,1)}µA')"
   ]
  },
  {
   "cell_type": "markdown",
   "metadata": {},
   "source": [
    "Let's do the same thing but with the cuff electrode:"
   ]
  },
  {
   "cell_type": "code",
   "execution_count": 24,
   "metadata": {},
   "outputs": [
    {
     "name": "stdout",
     "output_type": "stream",
     "text": [
      "NRV INFO: Iteration number 1, testing firing current amplitude 500 uA\n",
      "NRV INFO: ... Iteration simulation performed in 0.14757108688354492 s\n",
      "NRV INFO: ... Spike triggered\n",
      "NRV INFO: Iteration number 2, testing firing current amplitude 0 uA\n",
      "NRV INFO: ... Iteration simulation performed in 0.14624691009521484 s\n",
      "NRV INFO: ... Spike not triggered\n",
      "NRV INFO: Iteration number 3, testing firing current amplitude 250.0 uA\n",
      "NRV INFO: ... Iteration simulation performed in 0.15514302253723145 s\n",
      "NRV INFO: ... Spike triggered\n",
      "NRV INFO: Iteration number 4, testing firing current amplitude 125.0 uA\n",
      "NRV INFO: ... Iteration simulation performed in 0.1457509994506836 s\n",
      "NRV INFO: ... Spike not triggered\n",
      "NRV INFO: Iteration number 5, testing firing current amplitude 187.5 uA\n",
      "NRV INFO: ... Iteration simulation performed in 0.14886808395385742 s\n",
      "NRV INFO: ... Spike triggered\n",
      "NRV INFO: Iteration number 6, testing firing current amplitude 156.25 uA\n",
      "NRV INFO: ... Iteration simulation performed in 0.14794421195983887 s\n",
      "NRV INFO: ... Spike not triggered\n",
      "NRV INFO: Iteration number 7, testing firing current amplitude 171.875 uA\n",
      "NRV INFO: ... Iteration simulation performed in 0.15154790878295898 s\n",
      "NRV INFO: ... Spike triggered\n",
      "NRV INFO: Iteration number 8, testing firing current amplitude 164.0625 uA\n",
      "NRV INFO: ... Iteration simulation performed in 0.15180492401123047 s\n",
      "NRV INFO: ... Spike triggered\n",
      "cuff threshold: 160.2µA\n"
     ]
    }
   ],
   "source": [
    "axon_m.change_stimulus_from_electrode(ID_LIFE,dummy_stim)   #so LIFE is not stimulating\n",
    "\n",
    "thr_cuff = nrv.firing_threshold_from_axon(\n",
    "    axon = axon_m,                              #axon we're looking the threshold of\n",
    "    cath_time = T_pulse,                        #pulse duration\n",
    "    elec_id = ID_cuff,                          #stimulation electrode ID \n",
    "    amp_max = 500,                              #maximum amplitude for the search (in µA)\n",
    "    amp_tol = 5,                                #search tolerance, in %\n",
    "    t_sim = 3,                                  #stimulation duration, in ms\n",
    "    cath_an_ratio = 0,                          #cathodic/anodic ratio: 0 --> cathodic only\n",
    ")\n",
    "print(f'cuff threshold: {np.round(thr_cuff,1)}µA')"
   ]
  },
  {
   "cell_type": "markdown",
   "metadata": {},
   "source": [
    "The threshold of LIFE and cuff matches what we observed previously: cuff electrode requires a much higher current than a LIFE to activate a fiber. This result makes sens as extrafascicular electrode have generally a greater electrode-to-axon distance than intrasfascicular one. \n",
    "\n",
    "Let's use the ``firing_threshold_from_axon`` function to plot threshold vs axon diameter curve, for both when the axon is stimulated with a LIFE and a cuff. Let's start with the LIFE (takes several minutes to run):"
   ]
  },
  {
   "cell_type": "code",
   "execution_count": 25,
   "metadata": {},
   "outputs": [
    {
     "name": "stdout",
     "output_type": "stream",
     "text": [
      "\u001b[93mNRV WARNING: [6000.00537109    0.            0.        ] not found in mesh, value of [6000.    0.    0.] reused\u001b[0m\n",
      "LIFE threshold: 69.1µA (axon_d = 2µm)\n",
      "LIFE threshold: 35.0µA (axon_d = 4µm)\n",
      "LIFE threshold: 23.6µA (axon_d = 6µm)\n",
      "LIFE threshold: 18.7µA (axon_d = 8µm)\n",
      "LIFE threshold: 16.3µA (axon_d = 10µm)\n",
      "LIFE threshold: 15.3µA (axon_d = 12µm)\n",
      "LIFE threshold: 14.9µA (axon_d = 14µm)\n",
      "LIFE threshold: 14.4µA (axon_d = 16µm)\n",
      "LIFE threshold: 14.0µA (axon_d = 18µm)\n",
      "LIFE threshold: 13.6µA (axon_d = 20µm)\n"
     ]
    }
   ],
   "source": [
    "del extra_stim, axon_m                      #to prevent meshing error (known bug)\n",
    "\n",
    "axon_d_l = [2,4,6,8,10,12,14,16,18,20]        #axon diameter list, in µm\n",
    "LIFE_thr_l = []                               #list of results\n",
    "n_NoR = 31                                     #increase NoR so small axons are not too short\n",
    "nrv.parameters.set_nrv_verbosity(i=2)\n",
    "\n",
    "for axon_d in axon_d_l:\n",
    "\n",
    "    #we create a new axon\n",
    "    L_a = nrv.get_length_from_nodes(axon_d, n_NoR)                              \n",
    "    new_axon = nrv.myelinated(y=y_a, z=z_a, d=axon_d, L=L_a, model='MRG', rec='nodes')\n",
    "\n",
    "    #we create a corresponding extracellular context\n",
    "    extra_stim_f = nrv.FEM_stimulation(endo_mat='endoneurium_ranck')\n",
    "    extra_stim_f.reshape_nerve(d_n,L_a)\n",
    "    extra_stim_f.reshape_outerBox(d_outbox)\n",
    "    extra_stim_f.reshape_fascicle(Fascicle_D = d_f, y_c=y_f, z_c= z_f)\n",
    "\n",
    "    #same for the LIFE\n",
    "    x_LIFE = new_axon.x_nodes[n_NoR//2]\t# LIFE x position, in [um]\n",
    "    x_LIFE_offset = x_LIFE - (LIFE_l/2)\n",
    "    new_LIFE = nrv.LIFE_electrode('LIFE_1', LIFE_d, LIFE_l, x_LIFE_offset, y_LIFE, z_LIFE)\n",
    "    extra_stim_f.add_electrode(new_LIFE, dummy_stim)  #ID = 0\n",
    "\n",
    "    #link the extrastim with the axon: \n",
    "    new_axon.attach_extracellular_stimulation(extra_stim_f)\n",
    "    new_axon.get_electrodes_footprints_on_axon()\n",
    "\n",
    "    thr_LIFE = nrv.firing_threshold_from_axon(axon = new_axon,cath_time = T_pulse, \n",
    "    elec_id = 0,amp_max = 100,amp_tol = 2,t_sim = 3,cath_an_ratio = 0, verbose = False)  \n",
    "    del extra_stim_f, new_axon                       #to prevent meshing error (known bug)\n",
    "\n",
    "    print(f'LIFE threshold: {np.round(thr_LIFE,1)}µA (axon_d = {axon_d}µm)')                        \n",
    "    LIFE_thr_l.append(thr_LIFE)\n"
   ]
  },
  {
   "cell_type": "markdown",
   "metadata": {},
   "source": [
    "Let's to the same curve but with a cuff electrode this time:"
   ]
  },
  {
   "cell_type": "code",
   "execution_count": 26,
   "metadata": {},
   "outputs": [
    {
     "name": "stdout",
     "output_type": "stream",
     "text": [
      "\u001b[93mNRV WARNING: [6000.00537109    0.            0.        ] not found in mesh, value of [6000.    0.    0.] reused\u001b[0m\n",
      "LIFE threshold: 1394.5µA (axon_d = 2µm)\n",
      "LIFE threshold: 518.6µA (axon_d = 4µm)\n",
      "LIFE threshold: 284.2µA (axon_d = 6µm)\n",
      "LIFE threshold: 197.8µA (axon_d = 8µm)\n",
      "LIFE threshold: 156.7µA (axon_d = 10µm)\n",
      "LIFE threshold: 138.4µA (axon_d = 12µm)\n",
      "LIFE threshold: 128.2µA (axon_d = 14µm)\n",
      "LIFE threshold: 119.4µA (axon_d = 16µm)\n",
      "LIFE threshold: 112.1µA (axon_d = 18µm)\n",
      "LIFE threshold: 107.7µA (axon_d = 20µm)\n"
     ]
    }
   ],
   "source": [
    "cuff_thr_l = []                               #list of results\n",
    "\n",
    "for axon_d in axon_d_l:\n",
    "\n",
    "    #we create a new axon\n",
    "    L_a = nrv.get_length_from_nodes(axon_d, n_NoR)                              \n",
    "    new_axon = nrv.myelinated(y=y_a, z=z_a, d=axon_d, L=L_a, model='MRG', rec='nodes')\n",
    "\n",
    "    #we create a corresponding extracellular context\n",
    "    extra_stim_f = nrv.FEM_stimulation(endo_mat='endoneurium_ranck')\n",
    "    extra_stim_f.reshape_nerve(d_n,L_a)\n",
    "    extra_stim_f.reshape_outerBox(d_outbox)\n",
    "    extra_stim_f.reshape_fascicle(Fascicle_D = d_f, y_c=y_f, z_c= z_f)\n",
    "\n",
    "    #same for the LIFE\n",
    "    x_cuff = new_axon.x_nodes[n_NoR//2] # cuff z position, in [um]\n",
    "    new_cuff = nrv.CUFF_electrode('CUFF_1', contact_length=contact_width,\n",
    "            contact_thickness=contact_thickness, insulator_length=insulator_width,\n",
    "            insulator_thickness=insulator_thickness, x_center=x_cuff)\n",
    "    extra_stim_f.add_electrode(new_cuff, dummy_stim)  #ID = 0\n",
    "\n",
    "    #link the extrastim with the axon: \n",
    "    new_axon.attach_extracellular_stimulation(extra_stim_f)\n",
    "    new_axon.get_electrodes_footprints_on_axon()\n",
    "\n",
    "    thr_cuff = nrv.firing_threshold_from_axon(axon = new_axon,cath_time = T_pulse, \n",
    "    elec_id = 0,amp_max = 1500,amp_tol = 2,t_sim = 3,cath_an_ratio = 0, verbose = False)  \n",
    "    del extra_stim_f, new_axon                       #to prevent meshing error (known bug)\n",
    "\n",
    "    print(f'cuff threshold: {np.round(thr_cuff,1)}µA (axon_d = {axon_d}µm)')                        \n",
    "    cuff_thr_l.append(thr_cuff)"
   ]
  },
  {
   "cell_type": "markdown",
   "metadata": {},
   "source": [
    "Now we can plot the results to compare the recruitment properties of the two tested electrodes:"
   ]
  },
  {
   "cell_type": "code",
   "execution_count": 30,
   "metadata": {},
   "outputs": [
    {
     "data": {
      "image/png": "[encoded data removed]",
      "text/plain": [
       "<Figure size 640x480 with 1 Axes>"
      ]
     },
     "metadata": {},
     "output_type": "display_data"
    }
   ],
   "source": [
    "plt.figure()\n",
    "plt.semilogy(axon_d_l,LIFE_thr_l,'o-',label = 'LIFE')\n",
    "plt.semilogy(axon_d_l,cuff_thr_l,'o-',label = 'Cuff')\n",
    "plt.legend()\n",
    "plt.xlabel(\"Axon diameter (µm)\")\n",
    "plt.ylabel(\"Axon threshold (µA)\")\n",
    "plt.tight_layout()\n",
    "#plt.show()"
   ]
  }
 ],
 "metadata": {
  "kernelspec": {
   "display_name": "nrvx-env",
   "language": "python",
   "name": "python3"
  },
  "language_info": {
   "codemirror_mode": {
    "name": "ipython",
    "version": 3
   },
   "file_extension": ".py",
   "mimetype": "text/x-python",
   "name": "python",
   "nbconvert_exporter": "python",
   "pygments_lexer": "ipython3",
   "version": "3.12.3"
  }
 },
 "nbformat": 4,
 "nbformat_minor": 2
}
